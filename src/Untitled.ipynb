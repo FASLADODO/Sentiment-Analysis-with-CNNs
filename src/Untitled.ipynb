{
 "cells": [
  {
   "cell_type": "code",
   "execution_count": 1,
   "metadata": {},
   "outputs": [
    {
     "name": "stderr",
     "output_type": "stream",
     "text": [
      "Using TensorFlow backend.\n"
     ]
    }
   ],
   "source": [
    "from keras.layers import Embedding,Reshape,Dropout,Dense,Conv2D,Flatten,Lambda,Input,Concatenate\n",
    "from keras.models import Model \n",
    "from gensim.models import KeyedVectors\n",
    "from keras import backend as K\n",
    "from keras.preprocessing.text import Tokenizer\n",
    "from trainwordtovec import iterable\n",
    "import numpy as np \n",
    "from models import get_keras_embedding"
   ]
  },
  {
   "cell_type": "code",
   "execution_count": 2,
   "metadata": {},
   "outputs": [],
   "source": [
    "embedlayer1=get_keras_embedding(modelpath='./model.bin',finetune=True)\n",
    "embedlayer2=get_keras_embedding(modelpath='./model.bin',finetune=False)\n",
    "\n",
    "\n",
    "inp=Input(shape=(2400,))\n",
    "embed1=embedlayer1(inp)\n",
    "embed2=embedlayer2(inp)\n"
   ]
  },
  {
   "cell_type": "code",
   "execution_count": 3,
   "metadata": {},
   "outputs": [],
   "source": [
    "\n",
    "embed1=Lambda(lambda x: K.expand_dims(x,axis=-1))(embed1)\n",
    "embed2=Lambda(lambda x: K.expand_dims(x,axis=-1))(embed2)\n",
    "\n",
    "concat=Concatenate()([embed1,embed2])"
   ]
  },
  {
   "cell_type": "code",
   "execution_count": 4,
   "metadata": {},
   "outputs": [
    {
     "data": {
      "text/plain": [
       "<tf.Tensor 'concatenate_1/concat:0' shape=(?, 2400, 300, 2) dtype=float32>"
      ]
     },
     "execution_count": 4,
     "metadata": {},
     "output_type": "execute_result"
    }
   ],
   "source": []
  },
  {
   "cell_type": "code",
   "execution_count": null,
   "metadata": {},
   "outputs": [],
   "source": []
  }
 ],
 "metadata": {
  "kernelspec": {
   "display_name": "Python 3",
   "language": "python",
   "name": "python3"
  },
  "language_info": {
   "codemirror_mode": {
    "name": "ipython",
    "version": 3
   },
   "file_extension": ".py",
   "mimetype": "text/x-python",
   "name": "python",
   "nbconvert_exporter": "python",
   "pygments_lexer": "ipython3",
   "version": "3.6.4"
  }
 },
 "nbformat": 4,
 "nbformat_minor": 2
}
